{
 "cells": [
  {
   "cell_type": "markdown",
   "id": "0",
   "metadata": {},
   "source": [
    "# Evaluation of supplier risk"
   ]
  },
  {
   "cell_type": "markdown",
   "id": "1",
   "metadata": {},
   "source": [
    "#### library and data imports"
   ]
  },
  {
   "cell_type": "code",
   "execution_count": null,
   "id": "2",
   "metadata": {},
   "outputs": [],
   "source": [
    "import pandas as pd\n",
    "\n",
    "# File imports\n",
    "processed_files = [\n",
    "    'addresses_cleaned',\n",
    "    'articles_cleaned',\n",
    "    'indices_cleaned',\n",
    "    'orders_cleaned',\n",
    "    'suppliers_cleaned'\n",
    "]\n",
    "# Load processed CSV files into DataFrames\n",
    "addresses, articles, indices, orders, suppliers = [\n",
    "    pd.read_csv(f'../data/processed/{name}.csv', header=0) for name in processed_files\n",
    "]\n",
    "# Load country mapping helper file\n",
    "country_mapping = pd.read_csv('../data/helper/country_mapping.csv', header=0)\n"
   ]
  },
  {
   "cell_type": "markdown",
   "id": "3",
   "metadata": {},
   "source": [
    "#### Calculation of the quantitative risk score for suppliers including the following factors:\n",
    "1. human_rights_index (LkSG violation risk concerning human rights)\n",
    "2. environmental_risk (LkSG violation risk concernign environmental regulations)\n",
    "3. certificates_valid (missing certificates increase risk of liabilty)\n",
    "4. average order volume (risk of production losses due to overrepresentation of a single supplier)\n",
    "5. sum of order_value (risk of production losses due to overrepresentation of a single supplier)\n",
    "\n"
   ]
  },
  {
   "cell_type": "code",
   "execution_count": null,
   "id": "4",
   "metadata": {},
   "outputs": [],
   "source": [
    "def determine_risk_parameters(row):\n",
    "    # 1. Human rights index (lower value = higher risk, invert)\n",
    "    hr_index = row['human_rights_index']\n",
    "    hr_score = 1 if pd.isna(hr_index) else 1 - (hr_index / 100)\n",
    "\n",
    "    # 2. Environmental risk (lower value = higher risk, invert)\n",
    "    env_risk = row['environmental_risk']\n",
    "    env_score = 1 if pd.isna(env_risk) else  1 - (env_risk / 100)\n",
    "\n",
    "    # 3. Certificates validity (invalid = higher risk)\n",
    "    cert = row.get('certificates_valid', 'no')\n",
    "    cert_score = 0 if str(cert).strip().lower() == 'yes' else 1\n",
    "\n",
    "    # 4. Average order volume (higher = higher risk, normalize to 0-1)\n",
    "    avg_order_value = row.get('average order value', 0)\n",
    "    avg_order_score = avg_order_value / (avg_order_value + 60000) if avg_order_value > 0 else 0\n",
    "\n",
    "    # 5. Total order volume (higher = higher risk, normalize to 0-1)\n",
    "    order_sum = row.get('sum of order_value', 0)\n",
    "    order_sum_score = order_sum / (order_sum + 600000) if order_sum > 0 else 0\n",
    "\n",
    "    return pd.Series({\n",
    "        'risk_human_rights': round(hr_score, 2),\n",
    "        'risk_environment': round(env_score, 2),\n",
    "        'risk_certificates': cert_score,\n",
    "        'risk_avg_order': round(avg_order_score, 2),\n",
    "        'risk_order_sum': round(order_sum_score, 2)\n",
    "    })"
   ]
  },
  {
   "cell_type": "markdown",
   "id": "5",
   "metadata": {},
   "source": [
    "#### Weighting of risk factors\n",
    "The factors are weighted as follows:\n",
    "- Human rights and environmental risk: 30% each\n",
    "- Certificate available: 20%\n",
    "- Average order volume per order and order volume: 10% each\n",
    "\n",
    "The higher the score, the higher the risk."
   ]
  },
  {
   "cell_type": "code",
   "execution_count": null,
   "id": "6",
   "metadata": {},
   "outputs": [],
   "source": [
    "def calculate_quantitative_risk_score(row):\n",
    "    # Weighting of factors to calculate risk score\n",
    "\n",
    "    score = (0.3 * row.get('risk_human_rights', 0) +\n",
    "             0.3 * row.get('risk_environment', 0) +\n",
    "             0.2 * row.get('risk_certificates', 0) +\n",
    "             0.1 * row.get('risk_avg_order', 0) +\n",
    "             0.1 * row.get('risk_order_sum', 0))\n",
    "\n",
    "    # Round to 2 decimal places\n",
    "    return round(score, 2)"
   ]
  },
  {
   "cell_type": "markdown",
   "id": "7",
   "metadata": {},
   "source": [
    "#### Merging processed data to form risk overview table\n",
    "This includes a helper csv that connects countries to the respective country_id"
   ]
  },
  {
   "cell_type": "code",
   "execution_count": null,
   "id": "8",
   "metadata": {},
   "outputs": [],
   "source": [
    "# Filter suppliers to only keep those with status = 'active'\n",
    "suppliers = suppliers[suppliers['status'] == 'active']\n",
    "\n",
    "# Merge the DataFrames Suppliers and Addresses\n",
    "result_table = suppliers.merge(addresses, on='supplier_id', how='left')\n",
    "\n",
    "# Calculate the sum of all order_value per supplier_id and add as a new column\n",
    "order_sums = orders.groupby('supplier_id')['order_value'].sum().round(decimals=2).reset_index().rename(columns={'order_value': 'sum of order_value'})\n",
    "result_table = result_table.merge(order_sums, on='supplier_id', how='left')\n",
    "\n",
    "# Calculate the number of orders per supplier_id and add as a new column\n",
    "order_counts = orders.groupby('supplier_id')['order_id'].count().reset_index().rename(columns={'order_id': 'number of orders'})\n",
    "result_table = result_table.merge(order_counts, on='supplier_id', how='left')\n",
    "\n",
    "# Calculate the average order value per supplier_id and add as a new column\n",
    "result_table['average order value'] = result_table['sum of order_value'] / result_table['number of orders']\n",
    "\n",
    "# Add industry column: get the unique industry for each supplier from orders and articles\n",
    "orders_articles = orders.merge(articles, on='article_id', how='left')\n",
    "supplier_industry = orders_articles.groupby('supplier_id')['industry'].first().reset_index()\n",
    "result_table = result_table.merge(supplier_industry, on='supplier_id', how='left')\n",
    "\n",
    "# Add the indices human_rights_index and environmental_risk\n",
    "result_table = result_table.merge(country_mapping, on='country', how='left')\n",
    "result_table = result_table.merge(indices, on='country_id', how='left')\n",
    "\n",
    "# Calculate risk parameters\n",
    "result_table = result_table.join(result_table.apply(determine_risk_parameters, axis=1))\n",
    "\n",
    "# Add quantitative risk score column\n",
    "result_table['quantitative risk score'] = result_table.apply(lambda row: calculate_quantitative_risk_score(row), axis=1)\n",
    "\n"
   ]
  },
  {
   "cell_type": "markdown",
   "id": "9",
   "metadata": {},
   "source": [
    "#### Save detailed and compact versions of result table"
   ]
  },
  {
   "cell_type": "code",
   "execution_count": null,
   "id": "10",
   "metadata": {},
   "outputs": [],
   "source": [
    "result_table.to_csv('../data/result/detailed_result_table.csv', index=False)\n",
    "\n",
    "# Reduce table and reorder columns\n",
    "result_table = result_table[['supplier_id', 'country', 'sum of order_value', 'industry', 'quantitative risk score']]\n",
    "result_table.to_csv('../data/result/result_table.csv', index=False)"
   ]
  }
 ],
 "metadata": {
  "kernelspec": {
   "display_name": ".venv (3.10.7)",
   "language": "python",
   "name": "python3"
  },
  "language_info": {
   "codemirror_mode": {
    "name": "ipython",
    "version": 3
   },
   "file_extension": ".py",
   "mimetype": "text/x-python",
   "name": "python",
   "nbconvert_exporter": "python",
   "pygments_lexer": "ipython3",
   "version": "3.10.7"
  }
 },
 "nbformat": 4,
 "nbformat_minor": 5
}
