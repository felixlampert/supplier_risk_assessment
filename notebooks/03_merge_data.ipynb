{
 "cells": [
  {
   "cell_type": "code",
   "execution_count": null,
   "id": "0",
   "metadata": {},
   "outputs": [],
   "source": [
    "import pandas as pd\n",
    "\n",
    "# File imports\n",
    "files = [\n",
    "    'addresses_cleaned',\n",
    "    'articles_cleaned',\n",
    "    'indices_cleaned',\n",
    "    'orders_cleaned',\n",
    "    'suppliers_cleaned'\n",
    "]\n",
    "# Load CSV files into DataFrames\n",
    "addresses, articles, indices, orders, suppliers = [\n",
    "    pd.read_csv(f'../data/processed/{name}.csv', header=0) for name in files\n",
    "]"
   ]
  },
  {
   "cell_type": "code",
   "execution_count": null,
   "id": "1",
   "metadata": {},
   "outputs": [],
   "source": [
    "def calculate_quantitative_risk_score():\n",
    "\treturn \"x\"  # TODO: Implement the risk score calculation"
   ]
  },
  {
   "cell_type": "code",
   "execution_count": null,
   "id": "2",
   "metadata": {},
   "outputs": [],
   "source": [
    "# Filter suppliers to only keep those with status = 'active'\n",
    "suppliers = suppliers[suppliers['status'] == 'active']\n",
    "\n",
    "# Merge the DataFrames Suppliers and Addresses\n",
    "result_table = suppliers['supplier_id'].to_frame().merge(addresses, on='supplier_id', how='left')\n",
    "\n",
    "# Calculate the sum of all order_value per supplier_id\n",
    "order_sums = orders.groupby('supplier_id')['order_value'].sum().round(decimals=2).reset_index()\n",
    "order_sums = order_sums.rename(columns={'order_value': 'sum of order_value'})\n",
    "\n",
    "# Add the sum as a new column\n",
    "result_table = result_table.merge(order_sums, on='supplier_id', how='left')\n",
    "\n",
    "# Add industry column: get the unique industry for each supplier from orders and articles\n",
    "orders_articles = orders.merge(articles, on='article_id', how='left')\n",
    "supplier_industry = orders_articles.groupby('supplier_id')['industry'].first().reset_index()\n",
    "result_table = result_table.merge(supplier_industry, on='supplier_id', how='left')\n",
    "\n",
    "# Add quantitative risk score column (to be calculated later)\n",
    "result_table['quantitative risk score'] = result_table.apply(lambda row: calculate_quantitative_risk_score(), axis=1)\n",
    "\n",
    "result_table.to_csv('../data/result/result_table.csv', index=False)"
   ]
  }
 ],
 "metadata": {
  "kernelspec": {
   "display_name": ".venv (3.10.7)",
   "language": "python",
   "name": "python3"
  },
  "language_info": {
   "codemirror_mode": {
    "name": "ipython",
    "version": 3
   },
   "file_extension": ".py",
   "mimetype": "text/x-python",
   "name": "python",
   "nbconvert_exporter": "python",
   "pygments_lexer": "ipython3",
   "version": "3.10.7"
  }
 },
 "nbformat": 4,
 "nbformat_minor": 5
}
