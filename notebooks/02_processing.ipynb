{
 "cells": [
  {
   "cell_type": "markdown",
   "id": "0",
   "metadata": {},
   "source": [
    "# Processing of raw data to eliminate anomalies"
   ]
  },
  {
   "cell_type": "code",
   "execution_count": null,
   "id": "1",
   "metadata": {},
   "outputs": [],
   "source": [
    "import pandas as pd\n",
    "import os"
   ]
  },
  {
   "cell_type": "markdown",
   "id": "2",
   "metadata": {},
   "source": [
    "## Process addresses.csv"
   ]
  },
  {
   "cell_type": "code",
   "execution_count": null,
   "id": "3",
   "metadata": {},
   "outputs": [],
   "source": [
    "addresses = pd.read_csv('../data/raw/addresses.csv', header=0)\n",
    "addresses['country'] = addresses['country'].str.capitalize()\n",
    "addresses.drop_duplicates(inplace=True)\n",
    "addresses.sort_values(by='supplier_id', inplace=True)\n",
    "addresses.to_csv('../data/processed/addresses_cleaned.csv', index=False)"
   ]
  },
  {
   "cell_type": "markdown",
   "id": "4",
   "metadata": {},
   "source": [
    "## Process articles.csv"
   ]
  },
  {
   "cell_type": "code",
   "execution_count": null,
   "id": "5",
   "metadata": {},
   "outputs": [],
   "source": [
    "\n",
    "articles = pd.read_csv('../data/raw/articles.csv', header=0)\n",
    "articles = articles.rename(columns={'Article_ID': 'article_id', 'Article': 'article', 'Industry': 'industry'})\n",
    "articles[['article', 'industry']] = articles[['article', 'industry']].apply(lambda x: x.str.capitalize())\n",
    "articles['article_id'] = articles['article_id'].str.replace('\"', '', regex=True).astype(int)\n",
    "articles.sort_values(by='article_id', inplace=True)\n",
    "articles.to_csv('../data/processed/articles_cleaned.csv', index=False)\n"
   ]
  },
  {
   "cell_type": "markdown",
   "id": "6",
   "metadata": {},
   "source": [
    "## Process indices.csv"
   ]
  },
  {
   "cell_type": "code",
   "execution_count": null,
   "id": "7",
   "metadata": {},
   "outputs": [],
   "source": [
    "indices = pd.read_csv('../data/raw/indices.csv', header=0)\n",
    "indices = indices.rename(columns={'enivronmental_risk': 'environmental_risk'})\n",
    "indices[['human_rights_index', 'environmental_risk']] = indices[['human_rights_index', 'environmental_risk']].apply(pd.to_numeric, errors='coerce')\n",
    "indices.sort_values(by='country_id', inplace=True)\n",
    "indices.to_csv('../data/processed/indices_cleaned.csv', index=False, na_rep='NaN')"
   ]
  },
  {
   "cell_type": "markdown",
   "id": "8",
   "metadata": {},
   "source": [
    "## Process orders.csv"
   ]
  },
  {
   "cell_type": "code",
   "execution_count": null,
   "id": "9",
   "metadata": {},
   "outputs": [],
   "source": [
    "orders = pd.read_csv('../data/raw/orders.csv', header=0)\n",
    "orders['supplier_id'] = orders['supplier_id'].str.replace('\"', '', regex=True).astype(int)\n",
    "orders.sort_values(by='order_id', inplace=True)\n",
    "orders.to_csv('../data/processed/orders_cleaned.csv', index=False)"
   ]
  },
  {
   "cell_type": "markdown",
   "id": "10",
   "metadata": {},
   "source": [
    "## Process suppliers.csv"
   ]
  },
  {
   "cell_type": "code",
   "execution_count": null,
   "id": "11",
   "metadata": {},
   "outputs": [],
   "source": [
    "suppliers = pd.read_csv('../data/raw/suppliers.csv', header=0)\n",
    "suppliers.drop(columns='domain', inplace=True)\n",
    "suppliers.drop_duplicates(inplace=True)\n",
    "suppliers.sort_values(by=['status', 'supplier_id'], inplace=True)\n",
    "suppliers.to_csv('../data/processed/suppliers_cleaned.csv', index=False)"
   ]
  }
 ],
 "metadata": {
  "kernelspec": {
   "display_name": ".venv (3.10.7)",
   "language": "python",
   "name": "python3"
  },
  "language_info": {
   "codemirror_mode": {
    "name": "ipython",
    "version": 3
   },
   "file_extension": ".py",
   "mimetype": "text/x-python",
   "name": "python",
   "nbconvert_exporter": "python",
   "pygments_lexer": "ipython3",
   "version": "3.10.7"
  }
 },
 "nbformat": 4,
 "nbformat_minor": 5
}
