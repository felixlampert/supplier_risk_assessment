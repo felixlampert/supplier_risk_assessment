{
 "cells": [
  {
   "cell_type": "markdown",
   "id": "0",
   "metadata": {},
   "source": [
    "# Notebook for initial data exploration"
   ]
  },
  {
   "cell_type": "code",
   "execution_count": null,
   "id": "1",
   "metadata": {},
   "outputs": [],
   "source": [
    "#import necessary libraries for data analysis\n",
    "import pandas as pd\n",
    "import matplotlib.pyplot as plt\n",
    "import numpy as np"
   ]
  },
  {
   "cell_type": "markdown",
   "id": "2",
   "metadata": {},
   "source": [
    "## Exploration of addresses.csv"
   ]
  },
  {
   "cell_type": "markdown",
   "id": "3",
   "metadata": {},
   "source": [
    "### Identify duplicated supplier IDs"
   ]
  },
  {
   "cell_type": "code",
   "execution_count": null,
   "id": "4",
   "metadata": {},
   "outputs": [],
   "source": [
    "addresses = pd.read_csv('../data/raw/addresses.csv', header=0)\n",
    "\n",
    "# Find duplicate key-value pairs: supplier_id with multiple countries\n",
    "duplicates = addresses.groupby('supplier_id')['country'].nunique().reset_index()\n",
    "duplicates = duplicates[duplicates['country'] > 1]\n",
    "\n",
    "# Show affected supplier_ids and their countries\n",
    "for id in duplicates['supplier_id']:\n",
    "    countries = addresses[addresses['supplier_id'] == id]['country'].unique()\n",
    "    indices = addresses[addresses['supplier_id'] == id].index\n",
    "    print(f\"Supplier ID {id} is present at multiple positions {indices.values}\\n\")\n",
    "    print(addresses.loc[indices])"
   ]
  },
  {
   "cell_type": "markdown",
   "id": "5",
   "metadata": {},
   "source": [
    "### Identify switched cases in addresses.csv"
   ]
  },
  {
   "cell_type": "code",
   "execution_count": null,
   "id": "6",
   "metadata": {},
   "outputs": [],
   "source": [
    "# Identify country names with inconsistent capitalization\n",
    "country_variants = addresses.groupby(addresses['country'].str.lower())['country'].unique()\n",
    "for base, variants in country_variants.items():\n",
    "    if len(variants) > 1:\n",
    "        print(f\"Country '{base}' has multiple variants: {variants}\")"
   ]
  },
  {
   "cell_type": "markdown",
   "id": "7",
   "metadata": {},
   "source": [
    "## Exploration of articles.csv"
   ]
  },
  {
   "cell_type": "markdown",
   "id": "8",
   "metadata": {},
   "source": [
    "### Identify switched cases in articles.csv"
   ]
  },
  {
   "cell_type": "code",
   "execution_count": null,
   "id": "9",
   "metadata": {},
   "outputs": [],
   "source": [
    "articles = pd.read_csv('../data/raw/articles.csv', header=0)\n",
    "\n",
    "# Identify Article names with inconsistent capitalization\n",
    "article_variants = articles.groupby(articles['Industry'].str.lower())['Industry'].unique()\n",
    "for base, variants in article_variants.items():\n",
    "    if len(variants) > 1:\n",
    "        print(f\"Industry '{base}' has multiple variants: {variants}\")"
   ]
  },
  {
   "cell_type": "markdown",
   "id": "10",
   "metadata": {},
   "source": [
    "## Exploration of indices.csv"
   ]
  },
  {
   "cell_type": "markdown",
   "id": "11",
   "metadata": {},
   "source": [
    "### Checking for duplicates"
   ]
  },
  {
   "cell_type": "code",
   "execution_count": null,
   "id": "12",
   "metadata": {},
   "outputs": [],
   "source": [
    "indices = pd.read_csv('../data/raw/indices.csv', header=0)\n",
    "\n",
    "# Find duplicated country_id values\n",
    "duplicate_ids = indices[indices.duplicated('country_id', keep=False)]\n",
    "\n",
    "# Show all rows with duplicated country_id\n",
    "if not duplicate_ids.empty:\n",
    "    print(\"Duplicated country_id entries:\")\n",
    "    print(duplicate_ids)\n",
    "else:\n",
    "    print(\"No duplicated country_id found.\")"
   ]
  },
  {
   "cell_type": "markdown",
   "id": "13",
   "metadata": {},
   "source": [
    "### Identify missing values for human_rights_index and enivronmental_risk"
   ]
  },
  {
   "cell_type": "code",
   "execution_count": null,
   "id": "14",
   "metadata": {},
   "outputs": [],
   "source": [
    "indices = pd.read_csv('../data/raw/indices.csv', header=0)\n",
    "\n",
    "\n",
    "# Convert both columns to numeric, non-convertible values become NaN\n",
    "indices[['human_rights_index', 'enivronmental_risk']] = indices[['human_rights_index', 'enivronmental_risk']].apply(pd.to_numeric, errors='coerce')\n",
    "# Count missing values for hri\n",
    "missing_count_hri = indices['human_rights_index'].isna().sum()\n",
    "present_values_count_hri = indices['human_rights_index'].notna().sum()\n",
    "\n",
    "missing_count_env = indices['enivronmental_risk'].isna().sum()\n",
    "present_values_count_env = indices['enivronmental_risk'].notna().sum()\n",
    "\n",
    "print(f\"Number of present values in 'human_rights_index': {present_values_count_hri}\")\n",
    "print(f\"Number of missing values in 'human_rights_index': {missing_count_hri}\")\n",
    "\n",
    "print(f\"Number of present values in 'enivronmental_risk': {present_values_count_env}\")\n",
    "print(f\"Number of missing values in 'enivronmental_risk': {missing_count_env}\")\n"
   ]
  },
  {
   "cell_type": "markdown",
   "id": "15",
   "metadata": {},
   "source": [
    "### Plotting human rights index values"
   ]
  },
  {
   "cell_type": "code",
   "execution_count": null,
   "id": "16",
   "metadata": {},
   "outputs": [],
   "source": [
    "# Plot a histogram of 'human_rights_index' with a separate bar for missing values\n",
    "\n",
    "# Plot histogram for available values\n",
    "plt.figure(figsize=(10,6))\n",
    "plt.hist(indices['human_rights_index'].dropna(), bins=100, range=(0,100), color='skyblue', edgecolor='black', label='Available values')\n",
    "\n",
    "# Add a bar for missing values\n",
    "plt.bar(105, missing_count_hri, width=2, color='orange', label='Missing values')\n",
    "\n",
    "plt.xlabel('Human Rights Index')\n",
    "plt.ylabel('Count')\n",
    "plt.title('Distribution of Human Rights Index (including missing values)')\n",
    "plt.legend()\n",
    "plt.xticks(list(np.linspace(0,100,11)) + [110], labels=[str(int(x)) for x in np.linspace(0,100,11)] + ['Missing'])\n",
    "plt.show()"
   ]
  },
  {
   "cell_type": "markdown",
   "id": "17",
   "metadata": {},
   "source": [
    "### Plotting environmental risk values"
   ]
  },
  {
   "cell_type": "code",
   "execution_count": null,
   "id": "18",
   "metadata": {},
   "outputs": [],
   "source": [
    "# Plot a histogram of 'enivronmental_risk' with a separate bar for missing values\n",
    "\n",
    "# Plot histogram for available values\n",
    "plt.figure(figsize=(10,6))\n",
    "plt.hist(indices['enivronmental_risk'].dropna(), bins=100, range=(0,100), color='green', edgecolor='black', label='Available values')\n",
    "\n",
    "# Add a bar for missing values\n",
    "plt.bar(105, missing_count_env, width=2, color='orange', label='Missing values')\n",
    "\n",
    "plt.xlabel('Human Rights Index')\n",
    "plt.ylabel('Count')\n",
    "plt.title('Distribution of Human Rights Index (including missing values)')\n",
    "plt.legend()\n",
    "plt.xticks(list(np.linspace(0,100,11)) + [110], labels=[str(int(x)) for x in np.linspace(0,100,11)] + ['Missing'])\n",
    "plt.show()"
   ]
  },
  {
   "cell_type": "markdown",
   "id": "19",
   "metadata": {},
   "source": [
    "### Plotting distribution of environmental risk values"
   ]
  },
  {
   "cell_type": "code",
   "execution_count": null,
   "id": "20",
   "metadata": {},
   "outputs": [],
   "source": [
    "# Plot the percentage distribution of all non-null values for 'enivronmental_risk'\n",
    "env_risk_counts = indices['enivronmental_risk'].dropna().value_counts(normalize=True).sort_index() * 100\n",
    "plt.figure(figsize=(12,6))\n",
    "env_risk_counts.plot(kind='bar', color='green', edgecolor='black')\n",
    "plt.xlabel('Environmental Risk')\n",
    "plt.ylabel('Percentage (%)')\n",
    "plt.title('Percentage Distribution of Environmental Risk (non-null values)')\n",
    "plt.show()"
   ]
  },
  {
   "cell_type": "markdown",
   "id": "21",
   "metadata": {},
   "source": [
    "### Investigating correlation between hri and env"
   ]
  },
  {
   "cell_type": "code",
   "execution_count": null,
   "id": "22",
   "metadata": {},
   "outputs": [],
   "source": [
    "# Scatterplot: human_rights_index vs. enivronmental_risk with point size by frequency\n",
    "counts = indices.groupby(['human_rights_index', 'enivronmental_risk']).size().reset_index(name='count')\n",
    "plt.figure(figsize=(8,6))\n",
    "plt.scatter(counts['human_rights_index'], counts['enivronmental_risk'], s=counts['count']*10, alpha=0.7, color='purple', edgecolor='k')\n",
    "plt.xlabel('Human Rights Index')\n",
    "plt.ylabel('Environmental Risk')\n",
    "plt.title('Scatterplot of Human Rights Index vs. Environmental Risk (point size = frequency)')\n",
    "plt.grid(True)\n",
    "plt.show()"
   ]
  },
  {
   "cell_type": "markdown",
   "id": "23",
   "metadata": {},
   "source": [
    "## Exploration of suppliers.csv"
   ]
  },
  {
   "cell_type": "markdown",
   "id": "24",
   "metadata": {},
   "source": [
    "### Checking for duplicates"
   ]
  },
  {
   "cell_type": "code",
   "execution_count": null,
   "id": "25",
   "metadata": {},
   "outputs": [],
   "source": [
    "suppliers = pd.read_csv('../data/raw/suppliers.csv', header=0)\n",
    "\n",
    "# Find duplicated supplier_id values\n",
    "duplicate_ids = suppliers[suppliers.duplicated('supplier_id', keep=False)]\n",
    "\n",
    "# Show all rows with duplicated supplier_id\n",
    "if not duplicate_ids.empty:\n",
    "    print(\"Duplicated supplier_id entries:\")\n",
    "    print(duplicate_ids)\n",
    "else:\n",
    "    print(\"No duplicated supplier_id found.\")"
   ]
  },
  {
   "cell_type": "markdown",
   "id": "26",
   "metadata": {},
   "source": [
    "### Investigating amount of active suppliers with and without a valid certificate"
   ]
  },
  {
   "cell_type": "code",
   "execution_count": null,
   "id": "27",
   "metadata": {},
   "outputs": [],
   "source": [
    "# Calculate the share of unique suppliers with status 'active' among all unique suppliers\n",
    "suppliers = pd.read_csv('../data/raw/suppliers.csv', header=0)\n",
    "\n",
    "# Remove duplicate supplier_id entries\n",
    "unique_suppliers = suppliers.drop_duplicates(subset='supplier_id')\n",
    "\n",
    "# Calculate the number of active suppliers\n",
    "active_count = (unique_suppliers['status'] == 'active').sum()\n",
    "\n",
    "# Calculate the number of suppliers with a valid certificate\n",
    "certificate_count = (unique_suppliers['certificates_valid'] == 'yes').sum()\n",
    "\n",
    "# Calculate the number of active suppliers with a valid certificate\n",
    "active_certificate_count = ((unique_suppliers['status'] == 'active') & (unique_suppliers['certificates_valid'] == 'yes')).sum()\n",
    "\n",
    "active_no_certificate_count = active_count - active_certificate_count\n",
    "\n",
    "total_count = len(unique_suppliers)\n",
    "active_share = active_count / total_count if total_count > 0 else np.nan\n",
    "certificate_share = certificate_count / total_count if total_count > 0 else np.nan\n",
    "active_certificate_share = active_certificate_count / total_count if total_count > 0 else np.nan\n",
    "active_no_certificate_share = active_no_certificate_count / total_count if total_count > 0 else np.nan\n",
    "\n",
    "print(f\"Share of active suppliers: {active_share:.2%} ({active_count} of {total_count})\")\n",
    "print(f\"Share of suppliers with a valid certificate: {certificate_share:.2%} ({certificate_count} of {total_count})\")\n",
    "print(f\"Share of active suppliers with a valid certificate: {active_certificate_share:.2%} ({active_certificate_count} of {total_count})\")\n",
    "print(f\"Share of active suppliers without a valid certificate: {active_no_certificate_share:.2%} ({active_no_certificate_count} of {total_count})\")"
   ]
  },
  {
   "cell_type": "markdown",
   "id": "28",
   "metadata": {},
   "source": [
    "### Plotting revenue of suppliers to identfiy outliers"
   ]
  },
  {
   "cell_type": "code",
   "execution_count": null,
   "id": "29",
   "metadata": {},
   "outputs": [],
   "source": [
    "# Make suppliers with revenue=0 visible by adding 1 to all revenues (log scale)\n",
    "unique_suppliers_sorted = unique_suppliers.sort_values('supplier_id').reset_index(drop=True)\n",
    "unique_suppliers_sorted['revenue_plus1'] = unique_suppliers_sorted['total_company_revenue'] + 1\n",
    "\n",
    "combinations = [\n",
    "    ('active', 'yes'),\n",
    "    ('active', 'no'),\n",
    "    ('inactive', 'yes'),\n",
    "    ('inactive', 'no')\n",
    " ]\n",
    "color_map = {'active': 'green', 'inactive': 'red'}\n",
    "marker_map = {'yes': 'o', 'no': 'x'}\n",
    "labels = {\n",
    "    ('active', 'yes'): 'Active & Valid Certificate',\n",
    "    ('active', 'no'): 'Active & No Certificate',\n",
    "    ('inactive', 'yes'): 'Inactive & Valid Certificate',\n",
    "    ('inactive', 'no'): 'Inactive & No Certificate'\n",
    "}\n",
    "\n",
    "plt.figure(figsize=(12,6))\n",
    "for status, cert in combinations:\n",
    "    subset = unique_suppliers_sorted[(unique_suppliers_sorted['status'] == status) & (unique_suppliers_sorted['certificates_valid'] == cert)]\n",
    "    plt.scatter(subset.index, subset['revenue_plus1'],\n",
    "                c=color_map[status], marker=marker_map[cert],\n",
    "                label=labels[(status, cert)], alpha=0.7, edgecolor='k')\n",
    "\n",
    "plt.xlabel('Supplier (sorted by supplier_id)')\n",
    "plt.ylabel('Total Company Revenue (+1)')\n",
    "plt.title('Supplier Revenue by Status and Certificate Validity (log scale, 0 values visible)')\n",
    "plt.legend(loc='upper right')\n",
    "plt.yscale('log')\n",
    "plt.show()"
   ]
  },
  {
   "cell_type": "markdown",
   "id": "30",
   "metadata": {},
   "source": [
    "## Exploration of orders.csv"
   ]
  },
  {
   "cell_type": "markdown",
   "id": "31",
   "metadata": {},
   "source": [
    "### Checking for duplicates"
   ]
  },
  {
   "cell_type": "code",
   "execution_count": null,
   "id": "32",
   "metadata": {},
   "outputs": [],
   "source": [
    "orders = pd.read_csv('../data/raw/orders.csv', header=0)\n",
    "\n",
    "# Find duplicated order_id values\n",
    "duplicate_ids = orders[orders.duplicated('order_id', keep=False)]\n",
    "\n",
    "# Show all rows with duplicated order_id\n",
    "if not duplicate_ids.empty:\n",
    "    print(\"Duplicated order_id entries:\")\n",
    "    print(duplicate_ids)\n",
    "else:\n",
    "    print(\"No duplicated order_id found.\")"
   ]
  },
  {
   "cell_type": "markdown",
   "id": "33",
   "metadata": {},
   "source": [
    "### Plotting orders on quantity and price per quantity"
   ]
  },
  {
   "cell_type": "code",
   "execution_count": null,
   "id": "34",
   "metadata": {},
   "outputs": [],
   "source": [
    "# Read orders\n",
    "orders = pd.read_csv('../data/raw/orders.csv', header=0)\n",
    "\n",
    "# Read articles and clean Article_IDs\n",
    "articles = pd.read_csv('../data/raw/articles.csv', header=0)\n",
    "articles['Article_ID_clean'] = articles['Article_ID'].astype(str).str.replace('\"', '').astype(int)\n",
    "\n",
    "# Also clean article_id in orders (if necessary)\n",
    "orders['article_id_clean'] = orders['article_id'].astype(int)\n",
    "\n",
    "# Merge: Add article name to orders\n",
    "orders_merged = orders.merge(articles, left_on='article_id_clean', right_on='Article_ID_clean', how='left')\n",
    "\n",
    "# Assign colors to articles\n",
    "import itertools\n",
    "colors = plt.get_cmap('tab10', len(orders_merged['Article'].unique()))\n",
    "article_names = orders_merged['Article'].unique()\n",
    "color_map = {name: colors(i) for i, name in enumerate(article_names)}\n",
    "\n",
    "plt.figure(figsize=(12,8))\n",
    "for i, article in enumerate(article_names):\n",
    "    subset = orders_merged[orders_merged['Article'] == article]\n",
    "    plt.scatter(subset['quantity'], subset['price_per_quantity'],\n",
    "                color=color_map[article], label=article, alpha=0.7, edgecolor='k')\n",
    "\n",
    "plt.xlabel('Quantity')\n",
    "plt.ylabel('Price per Quantity')\n",
    "plt.title('Scatterplot: Quantity vs. Price per Quantity by Article')\n",
    "plt.legend(title='Article Name', bbox_to_anchor=(1.05, 1), loc='upper left')\n",
    "plt.tight_layout()\n",
    "plt.show()"
   ]
  },
  {
   "cell_type": "markdown",
   "id": "35",
   "metadata": {},
   "source": [
    "### Plotting order associated industries on quantity and price per quantity"
   ]
  },
  {
   "cell_type": "code",
   "execution_count": null,
   "id": "36",
   "metadata": {},
   "outputs": [],
   "source": [
    "# Scatterplot: Group articles by industry (case-insensitive)\n",
    "orders = pd.read_csv('../data/raw/orders.csv', header=0)\n",
    "articles = pd.read_csv('../data/raw/articles.csv', header=0)\n",
    "articles['Article_ID_clean'] = articles['Article_ID'].astype(str).str.replace('\"', '').astype(int)\n",
    "articles['Industry_clean'] = articles['Industry'].str.lower()\n",
    "\n",
    "orders['article_id_clean'] = orders['article_id'].astype(int)\n",
    "orders_merged = orders.merge(articles, left_on='article_id_clean', right_on='Article_ID_clean', how='left')\n",
    "\n",
    "# Get unique industries (case-insensitive)\n",
    "industry_names = articles['Industry_clean'].unique()\n",
    "colors = plt.get_cmap('Set1', len(industry_names))\n",
    "color_map = {name: colors(i) for i, name in enumerate(industry_names)}\n",
    "\n",
    "plt.figure(figsize=(12,8))\n",
    "for i, industry in enumerate(industry_names):\n",
    "    subset = orders_merged[orders_merged['Industry_clean'] == industry]\n",
    "    plt.scatter(subset['quantity'], subset['price_per_quantity'],\n",
    "                color=color_map[industry], label=industry.capitalize(), alpha=0.7, edgecolor='k')\n",
    "\n",
    "plt.xlabel('Quantity')\n",
    "plt.ylabel('Price per Quantity')\n",
    "plt.title('Scatterplot: Quantity vs. Price per Quantity by Industry')\n",
    "plt.legend(title='Industry', bbox_to_anchor=(1.05, 1), loc='upper left')\n",
    "plt.tight_layout()\n",
    "plt.show()"
   ]
  },
  {
   "cell_type": "markdown",
   "id": "37",
   "metadata": {},
   "source": [
    "### Plotting suppliers and the industries they belong to by their total order value"
   ]
  },
  {
   "cell_type": "code",
   "execution_count": null,
   "id": "38",
   "metadata": {},
   "outputs": [],
   "source": [
    "# Bar plot: Total order value per supplier, colored by industry (red = multiple industries)\n",
    "orders = pd.read_csv('../data/raw/orders.csv', header=0)\n",
    "articles = pd.read_csv('../data/raw/articles.csv', header=0)\n",
    "orders['supplier_id_clean'] = orders['supplier_id'].astype(str).str.replace('\"', '').astype(int)\n",
    "articles['Article_ID_clean'] = articles['Article_ID'].astype(str).str.replace('\"', '').astype(int)\n",
    "orders['article_id_clean'] = orders['article_id'].astype(int)\n",
    "orders_merged = orders.merge(articles, left_on='article_id_clean', right_on='Article_ID_clean', how='left')\n",
    "orders_merged['Industry_clean'] = orders_merged['Industry'].str.lower()\n",
    "supplier_industries = orders_merged.groupby('supplier_id_clean')['Industry_clean'].agg(lambda x: set(x.dropna()))\n",
    "def get_color(industries):\n",
    "    if len(industries) > 1:\n",
    "        return 'red'\n",
    "    industry = list(industries)[0] if industries else 'unknown'\n",
    "    color_map = {\n",
    "        'metals': 'steelblue',\n",
    "        'electronics': 'orange',\n",
    "        'plastics': 'green'\n",
    "    }\n",
    "    return color_map.get(industry, 'gray')\n",
    "supplier_colors = supplier_industries.apply(get_color)\n",
    "supplier_order_value = orders_merged.groupby('supplier_id_clean')['order_value'].sum().sort_values(ascending=False)\n",
    "bar_colors = supplier_colors.reindex(supplier_order_value.index).tolist()\n",
    "import matplotlib.pyplot as plt\n",
    "plt.figure(figsize=(14,6))\n",
    "supplier_order_value.plot(kind='bar', color=bar_colors, edgecolor='black')\n",
    "plt.xlabel('Supplier ID')\n",
    "plt.ylabel('Total Order Value')\n",
    "plt.title('Total Order Value per Supplier (colored by Industry, red = multiple)')\n",
    "import matplotlib.patches as mpatches\n",
    "legend_patches = [\n",
    "    mpatches.Patch(color='steelblue', label='Metals'),\n",
    "    mpatches.Patch(color='orange', label='Electronics'),\n",
    "    mpatches.Patch(color='green', label='Plastics'),\n",
    "    mpatches.Patch(color='red', label='Multiple Industries'),\n",
    "    mpatches.Patch(color='gray', label='Unknown')\n",
    "]\n",
    "plt.legend(handles=legend_patches, title='Industry')\n",
    "plt.tight_layout()\n",
    "plt.show()"
   ]
  },
  {
   "cell_type": "markdown",
   "id": "39",
   "metadata": {},
   "source": [
    "### Plotting suppliers and the industries they belong to by their number of orders"
   ]
  },
  {
   "cell_type": "code",
   "execution_count": null,
   "id": "40",
   "metadata": {},
   "outputs": [],
   "source": [
    "# Bar plot: Number of orders per supplier, colored by industry (red = multiple industries)\n",
    "\n",
    "orders = pd.read_csv('../data/raw/orders.csv', header=0)\n",
    "articles = pd.read_csv('../data/raw/articles.csv', header=0)\n",
    "orders['supplier_id_clean'] = orders['supplier_id'].astype(str).str.replace('\"', '').astype(int)\n",
    "articles['Article_ID_clean'] = articles['Article_ID'].astype(str).str.replace('\"', '').astype(int)\n",
    "orders['article_id_clean'] = orders['article_id'].astype(int)\n",
    "orders_merged = orders.merge(articles, left_on='article_id_clean', right_on='Article_ID_clean', how='left')\n",
    "orders_merged['Industry_clean'] = orders_merged['Industry'].str.lower()\n",
    "supplier_industries = orders_merged.groupby('supplier_id_clean')['Industry_clean'].agg(lambda x: set(x.dropna()))\n",
    "def get_color(industries):\n",
    "    if len(industries) > 1:\n",
    "        return 'red'\n",
    "    industry = list(industries)[0] if industries else 'unknown'\n",
    "    color_map = {\n",
    "        'metals': 'steelblue',\n",
    "        'electronics': 'orange',\n",
    "        'plastics': 'green'\n",
    "    }\n",
    "    return color_map.get(industry, 'gray')\n",
    "supplier_colors = supplier_industries.apply(get_color)\n",
    "supplier_order_counts = orders_merged.groupby('supplier_id_clean')['order_id'].count().sort_values(ascending=False)\n",
    "bar_colors = supplier_colors.reindex(supplier_order_counts.index).tolist()\n",
    "import matplotlib.pyplot as plt\n",
    "plt.figure(figsize=(14,6))\n",
    "supplier_order_counts.plot(kind='bar', color=bar_colors, edgecolor='black')\n",
    "plt.xlabel('Supplier ID')\n",
    "plt.ylabel('Number of Orders')\n",
    "plt.title('Number of Orders per Supplier (colored by Industry, red = multiple)')\n",
    "import matplotlib.patches as mpatches\n",
    "legend_patches = [\n",
    "    mpatches.Patch(color='steelblue', label='Metals'),\n",
    "    mpatches.Patch(color='orange', label='Electronics'),\n",
    "    mpatches.Patch(color='green', label='Plastics'),\n",
    "    mpatches.Patch(color='red', label='Multiple Industries'),\n",
    "    mpatches.Patch(color='gray', label='Unknown')\n",
    "]\n",
    "plt.legend(handles=legend_patches, title='Industry')\n",
    "plt.tight_layout()\n",
    "plt.show()"
   ]
  }
 ],
 "metadata": {
  "kernelspec": {
   "display_name": ".venv (3.10.7)",
   "language": "python",
   "name": "python3"
  },
  "language_info": {
   "codemirror_mode": {
    "name": "ipython",
    "version": 3
   },
   "file_extension": ".py",
   "mimetype": "text/x-python",
   "name": "python",
   "nbconvert_exporter": "python",
   "pygments_lexer": "ipython3",
   "version": "3.10.7"
  }
 },
 "nbformat": 4,
 "nbformat_minor": 5
}
