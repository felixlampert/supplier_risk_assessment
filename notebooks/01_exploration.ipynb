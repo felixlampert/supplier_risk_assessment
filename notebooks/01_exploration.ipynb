{
 "cells": [
  {
   "cell_type": "markdown",
   "id": "0",
   "metadata": {},
   "source": [
    "# Notebook for initial data exploration"
   ]
  },
  {
   "cell_type": "code",
   "execution_count": null,
   "id": "1",
   "metadata": {},
   "outputs": [],
   "source": [
    "#import necessary libraries for data analysis\n",
    "import pandas as pd\n",
    "import matplotlib.pyplot as plt\n",
    "import numpy as np"
   ]
  },
  {
   "cell_type": "markdown",
   "id": "2",
   "metadata": {},
   "source": [
    "## Exploration of addresses.csv"
   ]
  },
  {
   "cell_type": "markdown",
   "id": "3",
   "metadata": {},
   "source": [
    "### Identify duplicated supplier ID in addresses.csv"
   ]
  },
  {
   "cell_type": "code",
   "execution_count": null,
   "id": "4",
   "metadata": {},
   "outputs": [],
   "source": [
    "addresses = pd.read_csv('../data/raw/addresses.csv', header=0)\n",
    "\n",
    "# Find duplicate key-value pairs: supplier_id with multiple countries\n",
    "duplicates = addresses.groupby('supplier_id')['country'].nunique().reset_index()\n",
    "duplicates = duplicates[duplicates['country'] > 1]\n",
    "\n",
    "# Show affected supplier_ids and their countries\n",
    "for id in duplicates['supplier_id']:\n",
    "    countries = addresses[addresses['supplier_id'] == id]['country'].unique()\n",
    "    indices = addresses[addresses['supplier_id'] == id].index\n",
    "    print(f\"Supplier ID {id} is present at multiple positions {indices.values}\\n\")\n",
    "    print(addresses.loc[indices])"
   ]
  },
  {
   "cell_type": "markdown",
   "id": "5",
   "metadata": {},
   "source": [
    "### Identify switched cases in addresses.csv"
   ]
  },
  {
   "cell_type": "code",
   "execution_count": null,
   "id": "6",
   "metadata": {},
   "outputs": [],
   "source": [
    "# Identify country names with inconsistent capitalization\n",
    "country_variants = addresses.groupby(addresses['country'].str.lower())['country'].unique()\n",
    "for base, variants in country_variants.items():\n",
    "    if len(variants) > 1:\n",
    "        print(f\"Country '{base}' has multiple variants: {variants}\")"
   ]
  },
  {
   "cell_type": "markdown",
   "id": "7",
   "metadata": {},
   "source": [
    "## Exploration of articles.csv"
   ]
  },
  {
   "cell_type": "markdown",
   "id": "8",
   "metadata": {},
   "source": [
    "### Identify switched cases in articles.csv"
   ]
  },
  {
   "cell_type": "code",
   "execution_count": null,
   "id": "9",
   "metadata": {},
   "outputs": [],
   "source": [
    "articles = pd.read_csv('../data/raw/articles.csv', header=0)\n",
    "\n",
    "# Identify Article names with inconsistent capitalization\n",
    "article_variants = articles.groupby(articles['Industry'].str.lower())['Industry'].unique()\n",
    "for base, variants in article_variants.items():\n",
    "    if len(variants) > 1:\n",
    "        print(f\"Industry '{base}' has multiple variants: {variants}\")"
   ]
  },
  {
   "cell_type": "markdown",
   "id": "10",
   "metadata": {},
   "source": [
    "## Exploration of indices.csv"
   ]
  },
  {
   "cell_type": "markdown",
   "id": "11",
   "metadata": {},
   "source": [
    "### Checking for duplicates"
   ]
  },
  {
   "cell_type": "code",
   "execution_count": null,
   "id": "12",
   "metadata": {},
   "outputs": [],
   "source": [
    "indices = pd.read_csv('../data/raw/indices.csv', header=0)\n",
    "\n",
    "# Find duplicated country_id values\n",
    "duplicate_ids = indices[indices.duplicated('country_id', keep=False)]\n",
    "\n",
    "# Show all rows with duplicated country_id\n",
    "if not duplicate_ids.empty:\n",
    "    print(\"Duplicated country_id entries:\")\n",
    "    print(duplicate_ids)\n",
    "else:\n",
    "    print(\"No duplicated country_id found.\")"
   ]
  },
  {
   "cell_type": "markdown",
   "id": "13",
   "metadata": {},
   "source": [
    "### Identify missing values for human_rights_index and enivronmental_risk"
   ]
  },
  {
   "cell_type": "code",
   "execution_count": null,
   "id": "14",
   "metadata": {},
   "outputs": [],
   "source": [
    "indices = pd.read_csv('../data/raw/indices.csv', header=0)\n",
    "\n",
    "\n",
    "# Convert both columns to numeric, non-convertible values become NaN\n",
    "indices[['human_rights_index', 'enivronmental_risk']] = indices[['human_rights_index', 'enivronmental_risk']].apply(pd.to_numeric, errors='coerce')\n",
    "# Count missing values for hri\n",
    "missing_count_hri = indices['human_rights_index'].isna().sum()\n",
    "present_values_count_hri = indices['human_rights_index'].notna().sum()\n",
    "\n",
    "missing_count_env = indices['enivronmental_risk'].isna().sum()\n",
    "present_values_count_env = indices['enivronmental_risk'].notna().sum()\n",
    "\n",
    "print(f\"Number of present values in 'human_rights_index': {present_values_count_hri}\")\n",
    "print(f\"Number of missing values in 'human_rights_index': {missing_count_hri}\")\n",
    "\n",
    "print(f\"Number of present values in 'enivronmental_risk': {present_values_count_env}\")\n",
    "print(f\"Number of missing values in 'enivronmental_risk': {missing_count_env}\")\n"
   ]
  },
  {
   "cell_type": "markdown",
   "id": "15",
   "metadata": {},
   "source": [
    "### Plotting human rights index values"
   ]
  },
  {
   "cell_type": "code",
   "execution_count": null,
   "id": "16",
   "metadata": {},
   "outputs": [],
   "source": [
    "# Plot a histogram of 'human_rights_index' with a separate bar for missing values\n",
    "\n",
    "# Plot histogram for available values\n",
    "plt.figure(figsize=(10,6))\n",
    "plt.hist(indices['human_rights_index'].dropna(), bins=100, range=(0,100), color='skyblue', edgecolor='black', label='Available values')\n",
    "\n",
    "# Add a bar for missing values\n",
    "plt.bar(105, missing_count_hri, width=2, color='orange', label='Missing values')\n",
    "\n",
    "plt.xlabel('Human Rights Index')\n",
    "plt.ylabel('Count')\n",
    "plt.title('Distribution of Human Rights Index (including missing values)')\n",
    "plt.legend()\n",
    "plt.xticks(list(np.linspace(0,100,11)) + [110], labels=[str(int(x)) for x in np.linspace(0,100,11)] + ['Missing'])\n",
    "plt.show()"
   ]
  },
  {
   "cell_type": "markdown",
   "id": "17",
   "metadata": {},
   "source": [
    "### Plotting environmental risk values"
   ]
  },
  {
   "cell_type": "code",
   "execution_count": null,
   "id": "18",
   "metadata": {},
   "outputs": [],
   "source": [
    "# Plot a histogram of 'enivronmental_risk' with a separate bar for missing values\n",
    "\n",
    "# Plot histogram for available values\n",
    "plt.figure(figsize=(10,6))\n",
    "plt.hist(indices['enivronmental_risk'].dropna(), bins=100, range=(0,100), color='green', edgecolor='black', label='Available values')\n",
    "\n",
    "# Add a bar for missing values\n",
    "plt.bar(105, missing_count_env, width=2, color='orange', label='Missing values')\n",
    "\n",
    "plt.xlabel('Human Rights Index')\n",
    "plt.ylabel('Count')\n",
    "plt.title('Distribution of Human Rights Index (including missing values)')\n",
    "plt.legend()\n",
    "plt.xticks(list(np.linspace(0,100,11)) + [110], labels=[str(int(x)) for x in np.linspace(0,100,11)] + ['Missing'])\n",
    "plt.show()"
   ]
  },
  {
   "cell_type": "markdown",
   "id": "19",
   "metadata": {},
   "source": [
    "### Plotting distribution of environmental risk values"
   ]
  },
  {
   "cell_type": "code",
   "execution_count": null,
   "id": "20",
   "metadata": {},
   "outputs": [],
   "source": [
    "# Plot the percentage distribution of all non-null values for 'enivronmental_risk'\n",
    "env_risk_counts = indices['enivronmental_risk'].dropna().value_counts(normalize=True).sort_index() * 100\n",
    "plt.figure(figsize=(12,6))\n",
    "env_risk_counts.plot(kind='bar', color='green', edgecolor='black')\n",
    "plt.xlabel('Environmental Risk')\n",
    "plt.ylabel('Percentage (%)')\n",
    "plt.title('Percentage Distribution of Environmental Risk (non-null values)')\n",
    "plt.show()"
   ]
  },
  {
   "cell_type": "markdown",
   "id": "21",
   "metadata": {},
   "source": [
    "### Investigating correlation between hri and env"
   ]
  },
  {
   "cell_type": "code",
   "execution_count": null,
   "id": "22",
   "metadata": {},
   "outputs": [],
   "source": [
    "# Scatterplot: human_rights_index vs. enivronmental_risk with point size by frequency\n",
    "counts = indices.groupby(['human_rights_index', 'enivronmental_risk']).size().reset_index(name='count')\n",
    "plt.figure(figsize=(8,6))\n",
    "plt.scatter(counts['human_rights_index'], counts['enivronmental_risk'], s=counts['count']*10, alpha=0.7, color='purple', edgecolor='k')\n",
    "plt.xlabel('Human Rights Index')\n",
    "plt.ylabel('Environmental Risk')\n",
    "plt.title('Scatterplot of Human Rights Index vs. Environmental Risk (point size = frequency)')\n",
    "plt.grid(True)\n",
    "plt.show()"
   ]
  },
  {
   "cell_type": "markdown",
   "id": "23",
   "metadata": {},
   "source": [
    "## Exploration of suppliers.csv"
   ]
  },
  {
   "cell_type": "markdown",
   "id": "24",
   "metadata": {},
   "source": [
    "### Checking for duplicates"
   ]
  },
  {
   "cell_type": "code",
   "execution_count": null,
   "id": "25",
   "metadata": {},
   "outputs": [],
   "source": [
    "suppliers = pd.read_csv('../data/raw/suppliers.csv', header=0)\n",
    "\n",
    "# Find duplicated supplier_id values\n",
    "duplicate_ids = suppliers[suppliers.duplicated('supplier_id', keep=False)]\n",
    "\n",
    "# Show all rows with duplicated supplier_id\n",
    "if not duplicate_ids.empty:\n",
    "    print(\"Duplicated supplier_id entries:\")\n",
    "    print(duplicate_ids)\n",
    "else:\n",
    "    print(\"No duplicated supplier_id found.\")"
   ]
  }
 ],
 "metadata": {
  "kernelspec": {
   "display_name": ".venv (3.10.7)",
   "language": "python",
   "name": "python3"
  },
  "language_info": {
   "codemirror_mode": {
    "name": "ipython",
    "version": 3
   },
   "file_extension": ".py",
   "mimetype": "text/x-python",
   "name": "python",
   "nbconvert_exporter": "python",
   "pygments_lexer": "ipython3",
   "version": "3.10.7"
  }
 },
 "nbformat": 4,
 "nbformat_minor": 5
}
