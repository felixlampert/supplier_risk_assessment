{
 "cells": [
  {
   "cell_type": "markdown",
   "id": "0",
   "metadata": {},
   "source": [
    "## Plotting risk of suppliers"
   ]
  },
  {
   "cell_type": "markdown",
   "id": "1",
   "metadata": {},
   "source": [
    "#### Individual supplier risk\n",
    "Using absolute values of risk factors"
   ]
  },
  {
   "cell_type": "code",
   "execution_count": null,
   "id": "2",
   "metadata": {},
   "outputs": [],
   "source": [
    "import matplotlib.pyplot as plt\n",
    "import numpy as np\n",
    "import pandas as pd\n",
    "\n",
    "result_table = pd.read_csv('../data/result/detailed_result_table.csv')\n",
    "# Select relevant columns for plotting\n",
    "risk_components = ['risk_human_rights', 'risk_environment', 'risk_certificates', 'risk_avg_order', 'risk_order_sum']\n",
    "supplier_ids = result_table['supplier_id'].astype(str)\n",
    "\n",
    "# Prepare data for stacked bar plot\n",
    "data = result_table[risk_components].values\n",
    "ind = np.arange(len(supplier_ids))\n",
    "\n",
    "fig, ax = plt.subplots(figsize=(16, 6))\n",
    "bottom = np.zeros(len(supplier_ids))\n",
    "colors = ['#d62728', '#2ca02c', '#1f77b4', '#ff7f0e', '#9467bd']\n",
    "labels = ['Human Rights', 'Environment', 'Certificates', 'Average Order Volume', 'Total Order Volume']\n",
    "\n",
    "for i, (comp, color, label) in enumerate(zip(risk_components, colors, labels)):\n",
    "    ax.bar(supplier_ids, result_table[comp], bottom=bottom, label=label, color=color)\n",
    "    bottom += result_table[comp].values\n",
    "\n",
    "ax.set_xlabel('Supplier ID')\n",
    "ax.set_ylabel('Risk Score (stacked)')\n",
    "ax.set_title('Stacked Risk Score Components per Supplier')\n",
    "ax.legend(loc='upper right')\n",
    "plt.xticks(rotation=90)\n",
    "plt.tight_layout()\n",
    "plt.show()"
   ]
  },
  {
   "cell_type": "markdown",
   "id": "3",
   "metadata": {},
   "source": [
    "#### Individual supplier risk\n",
    "Using weighted risk factors "
   ]
  },
  {
   "cell_type": "code",
   "execution_count": null,
   "id": "4",
   "metadata": {},
   "outputs": [],
   "source": [
    "weights = {\n",
    "    'risk_human_rights': 0.3,\n",
    "    'risk_environment': 0.3,\n",
    "    'risk_certificates': 0.2,\n",
    "    'risk_avg_order': 0.1,\n",
    "    'risk_order_sum': 0.1\n",
    "}\n",
    "\n",
    "weighted_components = [result_table[comp] * weight for comp, weight in weights.items()]\n",
    "weighted_labels = ['Human Rights (30%)', 'Environment (30%)', 'Certificates (20%)', 'Average Order Volume (10%)', 'Total Order Volume (10%)']\n",
    "colors = ['#d62728', '#2ca02c', '#1f77b4', '#ff7f0e', '#9467bd']\n",
    "\n",
    "fig, ax = plt.subplots(figsize=(16, 6))\n",
    "bottom = np.zeros(len(result_table))\n",
    "for i, (comp, color, label) in enumerate(zip(weighted_components, colors, weighted_labels)):\n",
    "    ax.bar(supplier_ids, comp, bottom=bottom, label=label, color=color)\n",
    "    bottom += comp.values\n",
    "\n",
    "ax.set_xlabel('Supplier ID')\n",
    "ax.set_ylabel('Weighted Risk Score (0-1)')\n",
    "ax.set_title('Weighted Stacked Risk Score per Supplier')\n",
    "ax.legend(loc='upper right')\n",
    "plt.xticks(rotation=90)\n",
    "plt.tight_layout()\n",
    "plt.show()"
   ]
  },
  {
   "cell_type": "markdown",
   "id": "5",
   "metadata": {},
   "source": [
    "### Supplier risk by industry\n",
    "Using weighted risk factors"
   ]
  },
  {
   "cell_type": "code",
   "execution_count": null,
   "id": "6",
   "metadata": {},
   "outputs": [],
   "source": [
    "# Stacked bar plot: average weighted risk components per industry\n",
    "risk_components = ['risk_human_rights', 'risk_environment', 'risk_certificates', 'risk_avg_order', 'risk_order_sum']\n",
    "weights = {'risk_human_rights': 0.3, 'risk_environment': 0.3, 'risk_certificates': 0.2, 'risk_avg_order': 0.1, 'risk_order_sum': 0.1}\n",
    "\n",
    "industry_means = result_table.groupby('industry')[risk_components].mean()\n",
    "\n",
    "for comp in risk_components:\n",
    "    industry_means[comp] = industry_means[comp] * weights[comp]\n",
    "\n",
    "industries = industry_means.index.tolist()\n",
    "bottom = np.zeros(len(industries))\n",
    "colors = ['#d62728', '#2ca02c', '#1f77b4', '#ff7f0e', '#9467bd']\n",
    "labels = ['Human Rights (30%)', 'Environment (30%)', 'Certificates (20%)', 'Average Order Volume (10%)', 'Total Order Volume (10%)']\n",
    "\n",
    "plt.figure(figsize=(12, 7))\n",
    "for i, (comp, color, label) in enumerate(zip(risk_components, colors, labels)):\n",
    "    plt.bar(industries, industry_means[comp], bottom=bottom, label=label, color=color)\n",
    "    bottom += industry_means[comp].values\n",
    "\n",
    "plt.xlabel('Industry')\n",
    "plt.ylabel('Average Weighted Risk Score (stacked)')\n",
    "plt.title('Average Weighted Risk Score Components per Industry (stacked)')\n",
    "plt.xticks(rotation=45)\n",
    "plt.legend(loc='upper right')\n",
    "plt.tight_layout()\n",
    "plt.show()"
   ]
  },
  {
   "cell_type": "markdown",
   "id": "7",
   "metadata": {},
   "source": [
    "### Supplier risk by country\n",
    "Using weighted risk factors"
   ]
  },
  {
   "cell_type": "code",
   "execution_count": null,
   "id": "8",
   "metadata": {},
   "outputs": [],
   "source": [
    "# Stacked bar plot: average weighted risk components per country\n",
    "risk_components = ['risk_human_rights', 'risk_environment', 'risk_certificates', 'risk_avg_order', 'risk_order_sum']\n",
    "weights = {'risk_human_rights': 0.3, 'risk_environment': 0.3, 'risk_certificates': 0.2, 'risk_avg_order': 0.1, 'risk_order_sum': 0.1}\n",
    "\n",
    "country_means = result_table.groupby('country')[risk_components].mean()\n",
    "\n",
    "for comp in risk_components:\n",
    "    country_means[comp] = country_means[comp] * weights[comp]\n",
    "\n",
    "countries = country_means.index.tolist()\n",
    "bottom = np.zeros(len(countries))\n",
    "colors = ['#d62728', '#2ca02c', '#1f77b4', '#ff7f0e', '#9467bd']\n",
    "labels = ['Human Rights (30%)', 'Environment (30%)', 'Certificates (20%)', 'Average Order Volume (10%)', 'Total Order Volume (10%)']\n",
    "\n",
    "plt.figure(figsize=(16, 7))\n",
    "for i, (comp, color, label) in enumerate(zip(risk_components, colors, labels)):\n",
    "    plt.bar(countries, country_means[comp], bottom=bottom, label=label, color=color)\n",
    "    bottom += country_means[comp].values\n",
    "\n",
    "plt.xlabel('Country')\n",
    "plt.ylabel('Average Weighted Risk Score (stacked)')\n",
    "plt.title('Average Weighted Risk Score Components per Country (stacked)')\n",
    "plt.xticks(rotation=45, ha='right')\n",
    "plt.legend(loc='upper right')\n",
    "plt.tight_layout()\n",
    "plt.show()"
   ]
  }
 ],
 "metadata": {
  "kernelspec": {
   "display_name": ".venv (3.10.7)",
   "language": "python",
   "name": "python3"
  },
  "language_info": {
   "codemirror_mode": {
    "name": "ipython",
    "version": 3
   },
   "file_extension": ".py",
   "mimetype": "text/x-python",
   "name": "python",
   "nbconvert_exporter": "python",
   "pygments_lexer": "ipython3",
   "version": "3.10.7"
  }
 },
 "nbformat": 4,
 "nbformat_minor": 5
}
